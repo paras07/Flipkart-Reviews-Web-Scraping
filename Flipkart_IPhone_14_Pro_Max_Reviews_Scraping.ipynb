{
  "nbformat": 4,
  "nbformat_minor": 0,
  "metadata": {
    "colab": {
      "provenance": [],
      "authorship_tag": "ABX9TyOJgODpzdEDhNegZvh8Rp+I",
      "include_colab_link": true
    },
    "kernelspec": {
      "name": "python3",
      "display_name": "Python 3"
    },
    "language_info": {
      "name": "python"
    }
  },
  "cells": [
    {
      "cell_type": "markdown",
      "metadata": {
        "id": "view-in-github",
        "colab_type": "text"
      },
      "source": [
        "<a href=\"https://colab.research.google.com/github/paras07/Flipkart-Reviews-Web-Scraping/blob/main/Flipkart_IPhone_14_Pro_Max_Reviews_Scraping.ipynb\" target=\"_parent\"><img src=\"https://colab.research.google.com/assets/colab-badge.svg\" alt=\"Open In Colab\"/></a>"
      ]
    },
    {
      "cell_type": "code",
      "execution_count": null,
      "metadata": {
        "id": "lNgfSUs1OeW0"
      },
      "outputs": [],
      "source": [
        "#Installation of Chromium, Chromium Driver and Selenium\n",
        "%%shell\n",
        "\n",
        "cat > /etc/apt/sources.list.d/debian.list <<'EOF'\n",
        "deb [arch=amd64 signed-by=/usr/share/keyrings/debian-buster.gpg] http://deb.debian.org/debian buster main\n",
        "deb [arch=amd64 signed-by=/usr/share/keyrings/debian-buster-updates.gpg] http://deb.debian.org/debian buster-updates main\n",
        "deb [arch=amd64 signed-by=/usr/share/keyrings/debian-security-buster.gpg] http://deb.debian.org/debian-security buster/updates main\n",
        "EOF\n",
        "apt-key adv --keyserver keyserver.ubuntu.com --recv-keys DCC9EFBF77E11517\n",
        "apt-key adv --keyserver keyserver.ubuntu.com --recv-keys 648ACFD622F3D138\n",
        "apt-key adv --keyserver keyserver.ubuntu.com --recv-keys 112695A0E562B32A\n",
        "\n",
        "apt-key export 77E11517 | gpg --dearmour -o /usr/share/keyrings/debian-buster.gpg\n",
        "apt-key export 22F3D138 | gpg --dearmour -o /usr/share/keyrings/debian-buster-updates.gpg\n",
        "apt-key export E562B32A | gpg --dearmour -o /usr/share/keyrings/debian-security-buster.gpg\n",
        "\n",
        "cat > /etc/apt/preferences.d/chromium.pref << 'EOF'\n",
        "Package: *\n",
        "Pin: release a=eoan\n",
        "Pin-Priority: 500\n",
        "\n",
        "\n",
        "Package: *\n",
        "Pin: origin \"deb.debian.org\"\n",
        "Pin-Priority: 300\n",
        "\n",
        "\n",
        "Package: chromium*\n",
        "Pin: origin \"deb.debian.org\"\n",
        "Pin-Priority: 700\n",
        "EOF\n",
        "\n",
        "# Install chromium and chromium-driver\n",
        "apt-get update\n",
        "apt-get install chromium chromium-driver\n",
        "\n",
        "# Install selenium\n",
        "pip install selenium"
      ]
    },
    {
      "cell_type": "code",
      "source": [
        "from selenium import webdriver\n",
        "chrome_options = webdriver.ChromeOptions()\n",
        "chrome_options.add_argument('--headless')\n",
        "chrome_options.add_argument('--no-sandbox')\n",
        "chrome_options.headless = True"
      ],
      "metadata": {
        "id": "vFb5yL7LO76A"
      },
      "execution_count": null,
      "outputs": []
    },
    {
      "cell_type": "code",
      "source": [
        "from bs4 import BeautifulSoup\n",
        "from google.colab import  drive\n",
        "drive.mount('/drive')\n",
        "import requests as rq\n",
        "import pandas as pd\n",
        "from time import sleep\n",
        "import re"
      ],
      "metadata": {
        "id": "ydIIROgTPK9z"
      },
      "execution_count": null,
      "outputs": []
    },
    {
      "cell_type": "code",
      "source": [
        "username=[]\n",
        "rating=[]\n",
        "review=[]\n",
        "comment=[]\n",
        "link=[]\n",
        "#URL= \"https://www.flipkart.com/apple-iphone-14-pro-max-space-black-128-gb/p/itm9aed88fe43457?pid=MOBGHWFHCNVGGMZF&fm=organic&ppt=dynamic&ppn=dynamic&ssid=044ccsdk1s0000001685358094251\"\n",
        "url=input('Enter URL: ')\n",
        "driver=webdriver.Chrome('chromedriver',options=chrome_options)\n",
        "driver.maximize_window()\n",
        "driver.get(url)\n",
        "r1=rq.get(url)\n",
        "soup1=BeautifulSoup(r1.text,'html.parser')\n",
        "driver.execute_script('window.scroll(0,2500)')\n",
        "sleep(2)\n",
        "\n",
        "for t in soup1.findAll('a',attrs={'href':re.compile(\"/product-reviews\")}):\n",
        "    q=t.get('href')\n",
        "    link.append(q)\n",
        "#print(link)\n",
        "for i in link:\n",
        "    if 'LSTMOBGHWFHCNVGGMZFEEIZN3' in i:\n",
        "        #print(i)\n",
        "        aa=i\n",
        "f_url=('https://www.flipkart.com'+str(i))\n",
        "i=1\n",
        "#As Reviews has 11 webpages loop for 11 applied\n",
        "while i<=11:\n",
        "    ss=driver.get(str(f_url)+\"&page=\"+str(i))\n",
        "    qq=driver.current_url\n",
        "    r2=rq.get(qq)\n",
        "    soup=BeautifulSoup(r2.text,'html.parser')\n",
        "\n",
        "#Scraping Username\n",
        "    for ur in soup.find_all('p',{'class':'_2sc7ZR _2V5EHH'}):\n",
        "        aa=ur.get_text()\n",
        "        username.append(aa)\n",
        "#Scraping Rating\n",
        "    for ra in soup.find_all('div',{'class':'_3LWZlK _1BLPMq'}):\n",
        "        bb=ra.get_text()\n",
        "        rating.append(bb)\n",
        "#Scraping Review\n",
        "    for re in soup.find_all('p',{'class':'_2-N8zT'}):\n",
        "        cc=re.get_text()\n",
        "        review.append(cc)    \n",
        "#Scraping Comment\n",
        "    for co in soup.find_all('div',{'class':'t-ZTKy'}):\n",
        "        dd=co.get_text()\n",
        "        comment.append(dd)\n",
        " \n",
        "    sleep(1)\n",
        "    i+=1\n",
        "    \n",
        "df=pd.DataFrame([username, rating, review, comment]).transpose()\n",
        "df.columns = [\"USERNAME\", \"RATING\", \"REVIEW\", \"COMMENT\"]\n",
        "#File will be saved to Drive\n",
        "df.to_excel(\"/drive/My Drive/Colab_Data/Flipkart-IPhone 14 Pro Max.xlsx\") "
      ],
      "metadata": {
        "id": "kJMrOyqmPaoq"
      },
      "execution_count": null,
      "outputs": []
    }
  ]
}